{
  "nbformat": 4,
  "nbformat_minor": 0,
  "metadata": {
    "colab": {
      "name": "customer_personality_analysis_F.ipynb",
      "provenance": [],
      "authorship_tag": "ABX9TyNvMQatFMBN2uRNDg3z/S+D",
      "include_colab_link": true
    },
    "kernelspec": {
      "name": "python3",
      "display_name": "Python 3"
    },
    "language_info": {
      "name": "python"
    }
  },
  "cells": [
    {
      "cell_type": "markdown",
      "metadata": {
        "id": "view-in-github",
        "colab_type": "text"
      },
      "source": [
        "<a href=\"https://colab.research.google.com/github/Swethaa-sri/clustering/blob/main/customer_personality_analysis_F.ipynb\" target=\"_parent\"><img src=\"https://colab.research.google.com/assets/colab-badge.svg\" alt=\"Open In Colab\"/></a>"
      ]
    },
    {
      "cell_type": "markdown",
      "source": [
        "###### **Importing Libraries**"
      ],
      "metadata": {
        "id": "cgZYyIn3QoUE"
      }
    },
    {
      "cell_type": "code",
      "execution_count": null,
      "metadata": {
        "id": "-PtBau7KPe2I"
      },
      "outputs": [],
      "source": [
        "import pandas as pd\n",
        "import numpy as np\n",
        "import matplotlib.pyplot as plt\n",
        "import seaborn as sns"
      ]
    },
    {
      "cell_type": "markdown",
      "source": [
        "###### **Importing Dataset**"
      ],
      "metadata": {
        "id": "vA0aHmPkQx9J"
      }
    },
    {
      "cell_type": "code",
      "source": [
        "url = 'https://raw.githubusercontent.com/amankharwal/Website-data/master/marketing_campaign.csv'\n",
        "data = pd.read_csv(url, delimiter = ';' )\n",
        "data.head()"
      ],
      "metadata": {
        "colab": {
          "base_uri": "https://localhost:8080/",
          "height": 299
        },
        "id": "izEXoA3cQXoq",
        "outputId": "1d7ce62f-0db8-4e17-8a92-d7066b833a20"
      },
      "execution_count": null,
      "outputs": [
        {
          "output_type": "execute_result",
          "data": {
            "text/plain": [
              "     ID  Year_Birth   Education Marital_Status   Income  Kidhome  Teenhome  \\\n",
              "0  5524        1957  Graduation         Single  58138.0        0         0   \n",
              "1  2174        1954  Graduation         Single  46344.0        1         1   \n",
              "2  4141        1965  Graduation       Together  71613.0        0         0   \n",
              "3  6182        1984  Graduation       Together  26646.0        1         0   \n",
              "4  5324        1981         PhD        Married  58293.0        1         0   \n",
              "\n",
              "  Dt_Customer  Recency  MntWines  ...  NumWebVisitsMonth  AcceptedCmp3  \\\n",
              "0  2012-09-04       58       635  ...                  7             0   \n",
              "1  2014-03-08       38        11  ...                  5             0   \n",
              "2  2013-08-21       26       426  ...                  4             0   \n",
              "3  2014-02-10       26        11  ...                  6             0   \n",
              "4  2014-01-19       94       173  ...                  5             0   \n",
              "\n",
              "   AcceptedCmp4  AcceptedCmp5  AcceptedCmp1  AcceptedCmp2  Complain  \\\n",
              "0             0             0             0             0         0   \n",
              "1             0             0             0             0         0   \n",
              "2             0             0             0             0         0   \n",
              "3             0             0             0             0         0   \n",
              "4             0             0             0             0         0   \n",
              "\n",
              "   Z_CostContact  Z_Revenue  Response  \n",
              "0              3         11         1  \n",
              "1              3         11         0  \n",
              "2              3         11         0  \n",
              "3              3         11         0  \n",
              "4              3         11         0  \n",
              "\n",
              "[5 rows x 29 columns]"
            ],
            "text/html": [
              "\n",
              "  <div id=\"df-06f589e3-4a4d-4063-9fd9-0b0e3e256888\">\n",
              "    <div class=\"colab-df-container\">\n",
              "      <div>\n",
              "<style scoped>\n",
              "    .dataframe tbody tr th:only-of-type {\n",
              "        vertical-align: middle;\n",
              "    }\n",
              "\n",
              "    .dataframe tbody tr th {\n",
              "        vertical-align: top;\n",
              "    }\n",
              "\n",
              "    .dataframe thead th {\n",
              "        text-align: right;\n",
              "    }\n",
              "</style>\n",
              "<table border=\"1\" class=\"dataframe\">\n",
              "  <thead>\n",
              "    <tr style=\"text-align: right;\">\n",
              "      <th></th>\n",
              "      <th>ID</th>\n",
              "      <th>Year_Birth</th>\n",
              "      <th>Education</th>\n",
              "      <th>Marital_Status</th>\n",
              "      <th>Income</th>\n",
              "      <th>Kidhome</th>\n",
              "      <th>Teenhome</th>\n",
              "      <th>Dt_Customer</th>\n",
              "      <th>Recency</th>\n",
              "      <th>MntWines</th>\n",
              "      <th>...</th>\n",
              "      <th>NumWebVisitsMonth</th>\n",
              "      <th>AcceptedCmp3</th>\n",
              "      <th>AcceptedCmp4</th>\n",
              "      <th>AcceptedCmp5</th>\n",
              "      <th>AcceptedCmp1</th>\n",
              "      <th>AcceptedCmp2</th>\n",
              "      <th>Complain</th>\n",
              "      <th>Z_CostContact</th>\n",
              "      <th>Z_Revenue</th>\n",
              "      <th>Response</th>\n",
              "    </tr>\n",
              "  </thead>\n",
              "  <tbody>\n",
              "    <tr>\n",
              "      <th>0</th>\n",
              "      <td>5524</td>\n",
              "      <td>1957</td>\n",
              "      <td>Graduation</td>\n",
              "      <td>Single</td>\n",
              "      <td>58138.0</td>\n",
              "      <td>0</td>\n",
              "      <td>0</td>\n",
              "      <td>2012-09-04</td>\n",
              "      <td>58</td>\n",
              "      <td>635</td>\n",
              "      <td>...</td>\n",
              "      <td>7</td>\n",
              "      <td>0</td>\n",
              "      <td>0</td>\n",
              "      <td>0</td>\n",
              "      <td>0</td>\n",
              "      <td>0</td>\n",
              "      <td>0</td>\n",
              "      <td>3</td>\n",
              "      <td>11</td>\n",
              "      <td>1</td>\n",
              "    </tr>\n",
              "    <tr>\n",
              "      <th>1</th>\n",
              "      <td>2174</td>\n",
              "      <td>1954</td>\n",
              "      <td>Graduation</td>\n",
              "      <td>Single</td>\n",
              "      <td>46344.0</td>\n",
              "      <td>1</td>\n",
              "      <td>1</td>\n",
              "      <td>2014-03-08</td>\n",
              "      <td>38</td>\n",
              "      <td>11</td>\n",
              "      <td>...</td>\n",
              "      <td>5</td>\n",
              "      <td>0</td>\n",
              "      <td>0</td>\n",
              "      <td>0</td>\n",
              "      <td>0</td>\n",
              "      <td>0</td>\n",
              "      <td>0</td>\n",
              "      <td>3</td>\n",
              "      <td>11</td>\n",
              "      <td>0</td>\n",
              "    </tr>\n",
              "    <tr>\n",
              "      <th>2</th>\n",
              "      <td>4141</td>\n",
              "      <td>1965</td>\n",
              "      <td>Graduation</td>\n",
              "      <td>Together</td>\n",
              "      <td>71613.0</td>\n",
              "      <td>0</td>\n",
              "      <td>0</td>\n",
              "      <td>2013-08-21</td>\n",
              "      <td>26</td>\n",
              "      <td>426</td>\n",
              "      <td>...</td>\n",
              "      <td>4</td>\n",
              "      <td>0</td>\n",
              "      <td>0</td>\n",
              "      <td>0</td>\n",
              "      <td>0</td>\n",
              "      <td>0</td>\n",
              "      <td>0</td>\n",
              "      <td>3</td>\n",
              "      <td>11</td>\n",
              "      <td>0</td>\n",
              "    </tr>\n",
              "    <tr>\n",
              "      <th>3</th>\n",
              "      <td>6182</td>\n",
              "      <td>1984</td>\n",
              "      <td>Graduation</td>\n",
              "      <td>Together</td>\n",
              "      <td>26646.0</td>\n",
              "      <td>1</td>\n",
              "      <td>0</td>\n",
              "      <td>2014-02-10</td>\n",
              "      <td>26</td>\n",
              "      <td>11</td>\n",
              "      <td>...</td>\n",
              "      <td>6</td>\n",
              "      <td>0</td>\n",
              "      <td>0</td>\n",
              "      <td>0</td>\n",
              "      <td>0</td>\n",
              "      <td>0</td>\n",
              "      <td>0</td>\n",
              "      <td>3</td>\n",
              "      <td>11</td>\n",
              "      <td>0</td>\n",
              "    </tr>\n",
              "    <tr>\n",
              "      <th>4</th>\n",
              "      <td>5324</td>\n",
              "      <td>1981</td>\n",
              "      <td>PhD</td>\n",
              "      <td>Married</td>\n",
              "      <td>58293.0</td>\n",
              "      <td>1</td>\n",
              "      <td>0</td>\n",
              "      <td>2014-01-19</td>\n",
              "      <td>94</td>\n",
              "      <td>173</td>\n",
              "      <td>...</td>\n",
              "      <td>5</td>\n",
              "      <td>0</td>\n",
              "      <td>0</td>\n",
              "      <td>0</td>\n",
              "      <td>0</td>\n",
              "      <td>0</td>\n",
              "      <td>0</td>\n",
              "      <td>3</td>\n",
              "      <td>11</td>\n",
              "      <td>0</td>\n",
              "    </tr>\n",
              "  </tbody>\n",
              "</table>\n",
              "<p>5 rows × 29 columns</p>\n",
              "</div>\n",
              "      <button class=\"colab-df-convert\" onclick=\"convertToInteractive('df-06f589e3-4a4d-4063-9fd9-0b0e3e256888')\"\n",
              "              title=\"Convert this dataframe to an interactive table.\"\n",
              "              style=\"display:none;\">\n",
              "        \n",
              "  <svg xmlns=\"http://www.w3.org/2000/svg\" height=\"24px\"viewBox=\"0 0 24 24\"\n",
              "       width=\"24px\">\n",
              "    <path d=\"M0 0h24v24H0V0z\" fill=\"none\"/>\n",
              "    <path d=\"M18.56 5.44l.94 2.06.94-2.06 2.06-.94-2.06-.94-.94-2.06-.94 2.06-2.06.94zm-11 1L8.5 8.5l.94-2.06 2.06-.94-2.06-.94L8.5 2.5l-.94 2.06-2.06.94zm10 10l.94 2.06.94-2.06 2.06-.94-2.06-.94-.94-2.06-.94 2.06-2.06.94z\"/><path d=\"M17.41 7.96l-1.37-1.37c-.4-.4-.92-.59-1.43-.59-.52 0-1.04.2-1.43.59L10.3 9.45l-7.72 7.72c-.78.78-.78 2.05 0 2.83L4 21.41c.39.39.9.59 1.41.59.51 0 1.02-.2 1.41-.59l7.78-7.78 2.81-2.81c.8-.78.8-2.07 0-2.86zM5.41 20L4 18.59l7.72-7.72 1.47 1.35L5.41 20z\"/>\n",
              "  </svg>\n",
              "      </button>\n",
              "      \n",
              "  <style>\n",
              "    .colab-df-container {\n",
              "      display:flex;\n",
              "      flex-wrap:wrap;\n",
              "      gap: 12px;\n",
              "    }\n",
              "\n",
              "    .colab-df-convert {\n",
              "      background-color: #E8F0FE;\n",
              "      border: none;\n",
              "      border-radius: 50%;\n",
              "      cursor: pointer;\n",
              "      display: none;\n",
              "      fill: #1967D2;\n",
              "      height: 32px;\n",
              "      padding: 0 0 0 0;\n",
              "      width: 32px;\n",
              "    }\n",
              "\n",
              "    .colab-df-convert:hover {\n",
              "      background-color: #E2EBFA;\n",
              "      box-shadow: 0px 1px 2px rgba(60, 64, 67, 0.3), 0px 1px 3px 1px rgba(60, 64, 67, 0.15);\n",
              "      fill: #174EA6;\n",
              "    }\n",
              "\n",
              "    [theme=dark] .colab-df-convert {\n",
              "      background-color: #3B4455;\n",
              "      fill: #D2E3FC;\n",
              "    }\n",
              "\n",
              "    [theme=dark] .colab-df-convert:hover {\n",
              "      background-color: #434B5C;\n",
              "      box-shadow: 0px 1px 3px 1px rgba(0, 0, 0, 0.15);\n",
              "      filter: drop-shadow(0px 1px 2px rgba(0, 0, 0, 0.3));\n",
              "      fill: #FFFFFF;\n",
              "    }\n",
              "  </style>\n",
              "\n",
              "      <script>\n",
              "        const buttonEl =\n",
              "          document.querySelector('#df-06f589e3-4a4d-4063-9fd9-0b0e3e256888 button.colab-df-convert');\n",
              "        buttonEl.style.display =\n",
              "          google.colab.kernel.accessAllowed ? 'block' : 'none';\n",
              "\n",
              "        async function convertToInteractive(key) {\n",
              "          const element = document.querySelector('#df-06f589e3-4a4d-4063-9fd9-0b0e3e256888');\n",
              "          const dataTable =\n",
              "            await google.colab.kernel.invokeFunction('convertToInteractive',\n",
              "                                                     [key], {});\n",
              "          if (!dataTable) return;\n",
              "\n",
              "          const docLinkHtml = 'Like what you see? Visit the ' +\n",
              "            '<a target=\"_blank\" href=https://colab.research.google.com/notebooks/data_table.ipynb>data table notebook</a>'\n",
              "            + ' to learn more about interactive tables.';\n",
              "          element.innerHTML = '';\n",
              "          dataTable['output_type'] = 'display_data';\n",
              "          await google.colab.output.renderOutput(dataTable, element);\n",
              "          const docLink = document.createElement('div');\n",
              "          docLink.innerHTML = docLinkHtml;\n",
              "          element.appendChild(docLink);\n",
              "        }\n",
              "      </script>\n",
              "    </div>\n",
              "  </div>\n",
              "  "
            ]
          },
          "metadata": {},
          "execution_count": 2
        }
      ]
    },
    {
      "cell_type": "code",
      "source": [
        "data.info()"
      ],
      "metadata": {
        "colab": {
          "base_uri": "https://localhost:8080/"
        },
        "id": "o-D0PZZY_ECh",
        "outputId": "c4145ff0-2164-4eb1-f18b-7677de6c7a65"
      },
      "execution_count": null,
      "outputs": [
        {
          "output_type": "stream",
          "name": "stdout",
          "text": [
            "<class 'pandas.core.frame.DataFrame'>\n",
            "RangeIndex: 2240 entries, 0 to 2239\n",
            "Data columns (total 29 columns):\n",
            " #   Column               Non-Null Count  Dtype  \n",
            "---  ------               --------------  -----  \n",
            " 0   ID                   2240 non-null   int64  \n",
            " 1   Year_Birth           2240 non-null   int64  \n",
            " 2   Education            2240 non-null   object \n",
            " 3   Marital_Status       2240 non-null   object \n",
            " 4   Income               2216 non-null   float64\n",
            " 5   Kidhome              2240 non-null   int64  \n",
            " 6   Teenhome             2240 non-null   int64  \n",
            " 7   Dt_Customer          2240 non-null   object \n",
            " 8   Recency              2240 non-null   int64  \n",
            " 9   MntWines             2240 non-null   int64  \n",
            " 10  MntFruits            2240 non-null   int64  \n",
            " 11  MntMeatProducts      2240 non-null   int64  \n",
            " 12  MntFishProducts      2240 non-null   int64  \n",
            " 13  MntSweetProducts     2240 non-null   int64  \n",
            " 14  MntGoldProds         2240 non-null   int64  \n",
            " 15  NumDealsPurchases    2240 non-null   int64  \n",
            " 16  NumWebPurchases      2240 non-null   int64  \n",
            " 17  NumCatalogPurchases  2240 non-null   int64  \n",
            " 18  NumStorePurchases    2240 non-null   int64  \n",
            " 19  NumWebVisitsMonth    2240 non-null   int64  \n",
            " 20  AcceptedCmp3         2240 non-null   int64  \n",
            " 21  AcceptedCmp4         2240 non-null   int64  \n",
            " 22  AcceptedCmp5         2240 non-null   int64  \n",
            " 23  AcceptedCmp1         2240 non-null   int64  \n",
            " 24  AcceptedCmp2         2240 non-null   int64  \n",
            " 25  Complain             2240 non-null   int64  \n",
            " 26  Z_CostContact        2240 non-null   int64  \n",
            " 27  Z_Revenue            2240 non-null   int64  \n",
            " 28  Response             2240 non-null   int64  \n",
            "dtypes: float64(1), int64(25), object(3)\n",
            "memory usage: 507.6+ KB\n"
          ]
        }
      ]
    },
    {
      "cell_type": "code",
      "source": [
        "data.columns"
      ],
      "metadata": {
        "colab": {
          "base_uri": "https://localhost:8080/"
        },
        "id": "1oOc6u56Qtb7",
        "outputId": "6ce1b3aa-147a-48f0-fe08-b0b3c01b70e2"
      },
      "execution_count": null,
      "outputs": [
        {
          "output_type": "execute_result",
          "data": {
            "text/plain": [
              "Index(['ID', 'Year_Birth', 'Education', 'Marital_Status', 'Income', 'Kidhome',\n",
              "       'Teenhome', 'Dt_Customer', 'Recency', 'MntWines', 'MntFruits',\n",
              "       'MntMeatProducts', 'MntFishProducts', 'MntSweetProducts',\n",
              "       'MntGoldProds', 'NumDealsPurchases', 'NumWebPurchases',\n",
              "       'NumCatalogPurchases', 'NumStorePurchases', 'NumWebVisitsMonth',\n",
              "       'AcceptedCmp3', 'AcceptedCmp4', 'AcceptedCmp5', 'AcceptedCmp1',\n",
              "       'AcceptedCmp2', 'Complain', 'Z_CostContact', 'Z_Revenue', 'Response'],\n",
              "      dtype='object')"
            ]
          },
          "metadata": {},
          "execution_count": 4
        }
      ]
    },
    {
      "cell_type": "markdown",
      "source": [
        "###### ***check for null values ***"
      ],
      "metadata": {
        "id": "ggkR_cAjQ-CF"
      }
    },
    {
      "cell_type": "code",
      "source": [
        "data.isna().sum()"
      ],
      "metadata": {
        "colab": {
          "base_uri": "https://localhost:8080/"
        },
        "id": "B4COmNte_mNq",
        "outputId": "88c278ae-17ed-4eae-8648-1d67f42fdd6b"
      },
      "execution_count": null,
      "outputs": [
        {
          "output_type": "execute_result",
          "data": {
            "text/plain": [
              "ID                      0\n",
              "Year_Birth              0\n",
              "Education               0\n",
              "Marital_Status          0\n",
              "Income                 24\n",
              "Kidhome                 0\n",
              "Teenhome                0\n",
              "Dt_Customer             0\n",
              "Recency                 0\n",
              "MntWines                0\n",
              "MntFruits               0\n",
              "MntMeatProducts         0\n",
              "MntFishProducts         0\n",
              "MntSweetProducts        0\n",
              "MntGoldProds            0\n",
              "NumDealsPurchases       0\n",
              "NumWebPurchases         0\n",
              "NumCatalogPurchases     0\n",
              "NumStorePurchases       0\n",
              "NumWebVisitsMonth       0\n",
              "AcceptedCmp3            0\n",
              "AcceptedCmp4            0\n",
              "AcceptedCmp5            0\n",
              "AcceptedCmp1            0\n",
              "AcceptedCmp2            0\n",
              "Complain                0\n",
              "Z_CostContact           0\n",
              "Z_Revenue               0\n",
              "Response                0\n",
              "dtype: int64"
            ]
          },
          "metadata": {},
          "execution_count": 5
        }
      ]
    },
    {
      "cell_type": "markdown",
      "source": [
        "##### There are 24 null values in Income column ==> we will drop null values"
      ],
      "metadata": {
        "id": "qtQbFZosRP4A"
      }
    },
    {
      "cell_type": "code",
      "source": [
        "data = data.dropna()\n",
        "data.isna().sum()"
      ],
      "metadata": {
        "colab": {
          "base_uri": "https://localhost:8080/"
        },
        "id": "TZZdetYsBZ23",
        "outputId": "7d73c906-3222-492b-fa44-00e7e63b9361"
      },
      "execution_count": null,
      "outputs": [
        {
          "output_type": "execute_result",
          "data": {
            "text/plain": [
              "ID                     0\n",
              "Year_Birth             0\n",
              "Education              0\n",
              "Marital_Status         0\n",
              "Income                 0\n",
              "Kidhome                0\n",
              "Teenhome               0\n",
              "Dt_Customer            0\n",
              "Recency                0\n",
              "MntWines               0\n",
              "MntFruits              0\n",
              "MntMeatProducts        0\n",
              "MntFishProducts        0\n",
              "MntSweetProducts       0\n",
              "MntGoldProds           0\n",
              "NumDealsPurchases      0\n",
              "NumWebPurchases        0\n",
              "NumCatalogPurchases    0\n",
              "NumStorePurchases      0\n",
              "NumWebVisitsMonth      0\n",
              "AcceptedCmp3           0\n",
              "AcceptedCmp4           0\n",
              "AcceptedCmp5           0\n",
              "AcceptedCmp1           0\n",
              "AcceptedCmp2           0\n",
              "Complain               0\n",
              "Z_CostContact          0\n",
              "Z_Revenue              0\n",
              "Response               0\n",
              "dtype: int64"
            ]
          },
          "metadata": {},
          "execution_count": 6
        }
      ]
    },
    {
      "cell_type": "markdown",
      "source": [
        "##### no null values"
      ],
      "metadata": {
        "id": "VZG6WOUcBqzo"
      }
    },
    {
      "cell_type": "code",
      "source": [
        "## dropping ID as it is unique for each row, Z_CostContact and Z_Revenue no information regarding these variables\n",
        "data = data.drop(['ID','Z_CostContact','Z_Revenue'],axis=1)\n",
        "data.head()"
      ],
      "metadata": {
        "id": "Pn8aFyWlBtjU"
      },
      "execution_count": null,
      "outputs": []
    },
    {
      "cell_type": "code",
      "source": [
        "## with Year_Birth and Dt_Customer creating a new feature Age_at_customer_enrolled\n",
        "from datetime import date\n",
        "data['Dt_Customer'] = pd.to_datetime(data['Dt_Customer'])\n",
        "\n",
        "data['Age_at_Customer_enrolled'] = data['Dt_Customer'].dt.year - data['Year_Birth']"
      ],
      "metadata": {
        "id": "P-uhTky2CqSX"
      },
      "execution_count": null,
      "outputs": []
    },
    {
      "cell_type": "code",
      "source": [
        "## distribution of Age_at_Customer_enrolled\n",
        "data.hist(column='Age_at_Customer_enrolled', bins=range(0,130,10))"
      ],
      "metadata": {
        "colab": {
          "base_uri": "https://localhost:8080/",
          "height": 316
        },
        "id": "wMEUWHUTEG-L",
        "outputId": "d4ef940d-dd6c-4b37-d035-96d5647b0c39"
      },
      "execution_count": null,
      "outputs": [
        {
          "output_type": "execute_result",
          "data": {
            "text/plain": [
              "array([[<matplotlib.axes._subplots.AxesSubplot object at 0x7f9fa879ec10>]],\n",
              "      dtype=object)"
            ]
          },
          "metadata": {},
          "execution_count": 9
        },
        {
          "output_type": "display_data",
          "data": {
            "text/plain": [
              "<Figure size 432x288 with 1 Axes>"
            ],
            "image/png": "[encoded data removed]"
          },
          "metadata": {
            "needs_background": "light"
          }
        }
      ]
    },
    {
      "cell_type": "markdown",
      "source": [
        "##### Above 600 customers enrolled at age of 40-50  \n",
        "##### About 580 customers enrolled at age of 30-40\n",
        "##### About 470 customers enrolled at age of 50-60\n",
        "##### About 220 customers enrolled at age of 20-30\n",
        "##### About 260 customers enrolled at age of 60-70\n",
        "##### A very less customers enrolled at age of 10-20 and 70-80\n",
        "##### Customers above the age of 100 have also enrolled we can consider that as outlier. "
      ],
      "metadata": {
        "id": "33jUw3J6EpFI"
      }
    },
    {
      "cell_type": "code",
      "source": [
        "## removing customers enrolled at age above 100\n",
        "data = data[data['Age_at_Customer_enrolled']<100]"
      ],
      "metadata": {
        "id": "lyMzL3cTJdLA"
      },
      "execution_count": null,
      "outputs": []
    },
    {
      "cell_type": "code",
      "source": [
        "## Education\n",
        "data.Education.unique()"
      ],
      "metadata": {
        "colab": {
          "base_uri": "https://localhost:8080/"
        },
        "id": "MvfuOJm0J4bu",
        "outputId": "c432453f-d473-41b4-f697-ebb89400735f"
      },
      "execution_count": null,
      "outputs": [
        {
          "output_type": "execute_result",
          "data": {
            "text/plain": [
              "array(['Graduation', 'PhD', 'Master', 'Basic', '2n Cycle'], dtype=object)"
            ]
          },
          "metadata": {},
          "execution_count": 11
        }
      ]
    },
    {
      "cell_type": "code",
      "source": [
        "sns.countplot(x='Education',data=data)"
      ],
      "metadata": {
        "colab": {
          "base_uri": "https://localhost:8080/",
          "height": 296
        },
        "id": "cXQOWiRNKDIP",
        "outputId": "44f1c2ce-24be-4f8a-ca56-b2194b08ed46"
      },
      "execution_count": null,
      "outputs": [
        {
          "output_type": "execute_result",
          "data": {
            "text/plain": [
              "<matplotlib.axes._subplots.AxesSubplot at 0x7f9fa86a7fd0>"
            ]
          },
          "metadata": {},
          "execution_count": 12
        },
        {
          "output_type": "display_data",
          "data": {
            "text/plain": [
              "<Figure size 432x288 with 1 Axes>"
            ],
            "image/png": "[encoded data removed]"
          },
          "metadata": {
            "needs_background": "light"
          }
        }
      ]
    },
    {
      "cell_type": "markdown",
      "source": [
        "###### Almost above 1000 customers are Graduated\n",
        "###### Very few customers are with basic education"
      ],
      "metadata": {
        "id": "SuqKF26sLI__"
      }
    },
    {
      "cell_type": "code",
      "source": [
        "## combining Phd and Master as Master, Basic and 2n Cycle as Undergraduate\n",
        "data['Education']=data['Education'].replace({'PhD':'Master','Basic':'Undergraduate','2n Cycle':'Undergraduate'})\n",
        "data['Education'].unique()"
      ],
      "metadata": {
        "colab": {
          "base_uri": "https://localhost:8080/"
        },
        "id": "OK8K4TUsLffz",
        "outputId": "51b9c026-0cf6-492b-aa98-4f32936c38bb"
      },
      "execution_count": null,
      "outputs": [
        {
          "output_type": "execute_result",
          "data": {
            "text/plain": [
              "array(['Graduation', 'Master', 'Undergraduate'], dtype=object)"
            ]
          },
          "metadata": {},
          "execution_count": 13
        }
      ]
    },
    {
      "cell_type": "code",
      "source": [
        "sns.countplot(x='Education',data=data)"
      ],
      "metadata": {
        "colab": {
          "base_uri": "https://localhost:8080/",
          "height": 296
        },
        "id": "Qch-z7qHMVOn",
        "outputId": "f941cd6f-f3f7-4167-cd45-a19127a4a417"
      },
      "execution_count": null,
      "outputs": [
        {
          "output_type": "execute_result",
          "data": {
            "text/plain": [
              "<matplotlib.axes._subplots.AxesSubplot at 0x7f9fa81c8c50>"
            ]
          },
          "metadata": {},
          "execution_count": 14
        },
        {
          "output_type": "display_data",
          "data": {
            "text/plain": [
              "<Figure size 432x288 with 1 Axes>"
            ],
            "image/png": "[encoded data removed]"
          },
          "metadata": {
            "needs_background": "light"
          }
        }
      ]
    },
    {
      "cell_type": "code",
      "source": [
        "#### Label encoding of Education\n",
        "data['Education'] = data['Education'].replace({'Graduation':2,'Master':1,'Undergraduate':0})\n"
      ],
      "metadata": {
        "id": "wmK0o3c3Mni4"
      },
      "execution_count": null,
      "outputs": []
    },
    {
      "cell_type": "code",
      "source": [
        "data['Education'].unique()"
      ],
      "metadata": {
        "colab": {
          "base_uri": "https://localhost:8080/"
        },
        "id": "xl5_xe50NHr9",
        "outputId": "686fa64e-c606-4ea4-eab0-5278b3d10402"
      },
      "execution_count": null,
      "outputs": [
        {
          "output_type": "execute_result",
          "data": {
            "text/plain": [
              "array([2, 1, 0])"
            ]
          },
          "metadata": {},
          "execution_count": 16
        }
      ]
    },
    {
      "cell_type": "code",
      "source": [
        "## Distribution of Marital_Status\n",
        "sns.countplot(x='Marital_Status',data=data)"
      ],
      "metadata": {
        "colab": {
          "base_uri": "https://localhost:8080/",
          "height": 297
        },
        "id": "9jEmlaP_NRpm",
        "outputId": "b6adf81e-3a39-4c3f-8870-439d5e61585f"
      },
      "execution_count": null,
      "outputs": [
        {
          "output_type": "execute_result",
          "data": {
            "text/plain": [
              "<matplotlib.axes._subplots.AxesSubplot at 0x7f9fa81a7a90>"
            ]
          },
          "metadata": {},
          "execution_count": 17
        },
        {
          "output_type": "display_data",
          "data": {
            "text/plain": [
              "<Figure size 432x288 with 1 Axes>"
            ],
            "image/png": "[encoded data removed]"
          },
          "metadata": {
            "needs_background": "light"
          }
        }
      ]
    },
    {
      "cell_type": "markdown",
      "source": [
        "##### Majority are married"
      ],
      "metadata": {
        "id": "YyztXHUrSbpj"
      }
    },
    {
      "cell_type": "code",
      "source": [
        "## labelling Married and Together as partner and remaining as Single\n",
        "data['Marital_Status'] = data['Marital_Status'].replace({'Together':'Partner','Married':'Partner','Divorced':'Single','Widow':'Single',\n",
        "                                                         'Alone':'Single','Absurd':'Single','YOLO':'Single'})"
      ],
      "metadata": {
        "id": "0jZGZiRiSbPO"
      },
      "execution_count": null,
      "outputs": []
    },
    {
      "cell_type": "code",
      "source": [
        "data.Marital_Status.unique()"
      ],
      "metadata": {
        "colab": {
          "base_uri": "https://localhost:8080/"
        },
        "id": "x5bthb6JTYEu",
        "outputId": "4b2d922c-4c13-452c-e845-83448cd45d06"
      },
      "execution_count": null,
      "outputs": [
        {
          "output_type": "execute_result",
          "data": {
            "text/plain": [
              "array(['Single', 'Partner'], dtype=object)"
            ]
          },
          "metadata": {},
          "execution_count": 19
        }
      ]
    },
    {
      "cell_type": "code",
      "source": [
        "data['Marital_Status'] = data['Marital_Status'].replace({'Single':1,'Partner':2})"
      ],
      "metadata": {
        "id": "ITLkh39C0IWz"
      },
      "execution_count": null,
      "outputs": []
    },
    {
      "cell_type": "code",
      "source": [
        "## Income distribution\n",
        "data.boxplot(column='Income')"
      ],
      "metadata": {
        "colab": {
          "base_uri": "https://localhost:8080/",
          "height": 282
        },
        "id": "M_pRvofPTgPV",
        "outputId": "8a1c4b92-e1ef-43c4-93a3-644ebb772e51"
      },
      "execution_count": null,
      "outputs": [
        {
          "output_type": "execute_result",
          "data": {
            "text/plain": [
              "<matplotlib.axes._subplots.AxesSubplot at 0x7f9fa80daed0>"
            ]
          },
          "metadata": {},
          "execution_count": 21
        },
        {
          "output_type": "display_data",
          "data": {
            "text/plain": [
              "<Figure size 432x288 with 1 Axes>"
            ],
            "image/png": "[encoded data removed]"
          },
          "metadata": {
            "needs_background": "light"
          }
        }
      ]
    },
    {
      "cell_type": "markdown",
      "source": [
        "##### outliers are present. We will delete extreme outlier ==> income above 6,00,000"
      ],
      "metadata": {
        "id": "xL3eJ8GDUm4P"
      }
    },
    {
      "cell_type": "code",
      "source": [
        "data = data[data['Income']<600000]"
      ],
      "metadata": {
        "id": "I6RptrJDUym5"
      },
      "execution_count": null,
      "outputs": []
    },
    {
      "cell_type": "code",
      "source": [
        "data.boxplot(column='Income')"
      ],
      "metadata": {
        "colab": {
          "base_uri": "https://localhost:8080/",
          "height": 282
        },
        "id": "uGY2qn_jU5Zg",
        "outputId": "7ef9f5b5-0d13-4da7-b128-c47a70fe01ff"
      },
      "execution_count": null,
      "outputs": [
        {
          "output_type": "execute_result",
          "data": {
            "text/plain": [
              "<matplotlib.axes._subplots.AxesSubplot at 0x7f9fa805dd90>"
            ]
          },
          "metadata": {},
          "execution_count": 23
        },
        {
          "output_type": "display_data",
          "data": {
            "text/plain": [
              "<Figure size 432x288 with 1 Axes>"
            ],
            "image/png": "[encoded data removed]"
          },
          "metadata": {
            "needs_background": "light"
          }
        }
      ]
    },
    {
      "cell_type": "markdown",
      "source": [
        "##### median income ==> 50000"
      ],
      "metadata": {
        "id": "F5E5UVwwVDQe"
      }
    },
    {
      "cell_type": "code",
      "source": [
        "data.Kidhome.unique()"
      ],
      "metadata": {
        "colab": {
          "base_uri": "https://localhost:8080/"
        },
        "id": "A7cDKhVcVCr7",
        "outputId": "f93d8799-c179-4096-8a3f-66e18e3fe2cd"
      },
      "execution_count": null,
      "outputs": [
        {
          "output_type": "execute_result",
          "data": {
            "text/plain": [
              "array([0, 1, 2])"
            ]
          },
          "metadata": {},
          "execution_count": 24
        }
      ]
    },
    {
      "cell_type": "code",
      "source": [
        "sns.boxenplot(y=data[\"Income\"],x=data[\"Kidhome\"])"
      ],
      "metadata": {
        "colab": {
          "base_uri": "https://localhost:8080/",
          "height": 296
        },
        "id": "grry3sEkcR1Z",
        "outputId": "0ab9ad61-98ab-4b0f-a3c8-356c1ab8458b"
      },
      "execution_count": null,
      "outputs": [
        {
          "output_type": "execute_result",
          "data": {
            "text/plain": [
              "<matplotlib.axes._subplots.AxesSubplot at 0x7f9fa7fde550>"
            ]
          },
          "metadata": {},
          "execution_count": 25
        },
        {
          "output_type": "display_data",
          "data": {
            "text/plain": [
              "<Figure size 432x288 with 1 Axes>"
            ],
            "image/png": "[encoded data removed]"
          },
          "metadata": {
            "needs_background": "light"
          }
        }
      ]
    },
    {
      "cell_type": "markdown",
      "source": [
        "##### with 2 kids at home have a median income of 40,000\n",
        "##### with 1 kid at home have a median income of 40,000\n",
        "##### with 0 kid at home have a median income of 65,000"
      ],
      "metadata": {
        "id": "oBETBLgVcxti"
      }
    },
    {
      "cell_type": "code",
      "source": [
        "## Teenhome\n",
        "data.Teenhome.unique()"
      ],
      "metadata": {
        "colab": {
          "base_uri": "https://localhost:8080/"
        },
        "id": "7jlPjl6qeTdL",
        "outputId": "1a258925-1ab8-4514-a3e0-d9c28d374f55"
      },
      "execution_count": null,
      "outputs": [
        {
          "output_type": "execute_result",
          "data": {
            "text/plain": [
              "array([0, 1, 2])"
            ]
          },
          "metadata": {},
          "execution_count": 26
        }
      ]
    },
    {
      "cell_type": "code",
      "source": [
        "sns.boxenplot(y=data[\"Income\"],x=data[\"Teenhome\"])"
      ],
      "metadata": {
        "colab": {
          "base_uri": "https://localhost:8080/",
          "height": 296
        },
        "id": "XEl9TvIzechC",
        "outputId": "9faf9d22-0221-4a37-81aa-d4d133a1915a"
      },
      "execution_count": null,
      "outputs": [
        {
          "output_type": "execute_result",
          "data": {
            "text/plain": [
              "<matplotlib.axes._subplots.AxesSubplot at 0x7f9fa56f1490>"
            ]
          },
          "metadata": {},
          "execution_count": 27
        },
        {
          "output_type": "display_data",
          "data": {
            "text/plain": [
              "<Figure size 432x288 with 1 Axes>"
            ],
            "image/png": "[encoded data removed]"
          },
          "metadata": {
            "needs_background": "light"
          }
        }
      ]
    },
    {
      "cell_type": "markdown",
      "source": [
        "##### with 2 teens have a median salary of 60,000 \n",
        "##### with 1 teen have a median salary of 58,000\n",
        "##### with 0 teen have a median salary of 48,000 \n"
      ],
      "metadata": {
        "id": "G-ob9ofnes4j"
      }
    },
    {
      "cell_type": "code",
      "source": [
        "## Recency\n",
        "plt.scatter(x=data['Recency'],y=data['Income'])"
      ],
      "metadata": {
        "colab": {
          "base_uri": "https://localhost:8080/",
          "height": 282
        },
        "id": "U38Ip6R9eqg5",
        "outputId": "10ccc59d-5df7-4da5-c59d-0d9bfae00fd7"
      },
      "execution_count": null,
      "outputs": [
        {
          "output_type": "execute_result",
          "data": {
            "text/plain": [
              "<matplotlib.collections.PathCollection at 0x7f9fa569bd90>"
            ]
          },
          "metadata": {},
          "execution_count": 28
        },
        {
          "output_type": "display_data",
          "data": {
            "text/plain": [
              "<Figure size 432x288 with 1 Axes>"
            ],
            "image/png": "[encoded data removed]"
          },
          "metadata": {
            "needs_background": "light"
          }
        }
      ]
    },
    {
      "cell_type": "code",
      "source": [
        "##MntWines\n",
        "data.hist(column='MntWines')"
      ],
      "metadata": {
        "colab": {
          "base_uri": "https://localhost:8080/",
          "height": 316
        },
        "id": "dykNX_ezgNuh",
        "outputId": "fb480dfb-be5a-44f7-88a2-b25715192052"
      },
      "execution_count": null,
      "outputs": [
        {
          "output_type": "execute_result",
          "data": {
            "text/plain": [
              "array([[<matplotlib.axes._subplots.AxesSubplot object at 0x7f9fa55eb050>]],\n",
              "      dtype=object)"
            ]
          },
          "metadata": {},
          "execution_count": 29
        },
        {
          "output_type": "display_data",
          "data": {
            "text/plain": [
              "<Figure size 432x288 with 1 Axes>"
            ],
            "image/png": "[encoded data removed]"
          },
          "metadata": {
            "needs_background": "light"
          }
        }
      ]
    },
    {
      "cell_type": "markdown",
      "source": [
        "###### spending upto 200 is more on wines"
      ],
      "metadata": {
        "id": "vs_MKQRAsN1g"
      }
    },
    {
      "cell_type": "code",
      "source": [
        "plt.scatter(data['MntWines'],data['Income'])"
      ],
      "metadata": {
        "colab": {
          "base_uri": "https://localhost:8080/",
          "height": 282
        },
        "id": "ucZnOuAbsYxi",
        "outputId": "5e7f3d15-74f5-40d0-8e08-c7c96e6c45fd"
      },
      "execution_count": null,
      "outputs": [
        {
          "output_type": "execute_result",
          "data": {
            "text/plain": [
              "<matplotlib.collections.PathCollection at 0x7f9fa569bcd0>"
            ]
          },
          "metadata": {},
          "execution_count": 30
        },
        {
          "output_type": "display_data",
          "data": {
            "text/plain": [
              "<Figure size 432x288 with 1 Axes>"
            ],
            "image/png": "[encoded data removed]"
          },
          "metadata": {
            "needs_background": "light"
          }
        }
      ]
    },
    {
      "cell_type": "code",
      "source": [
        "##MntFruits\n",
        "data.hist(column='MntFruits')"
      ],
      "metadata": {
        "colab": {
          "base_uri": "https://localhost:8080/",
          "height": 316
        },
        "id": "gjpy4oB3tOld",
        "outputId": "dcc1d05c-8cd0-4529-b70f-95ab8badd95b"
      },
      "execution_count": null,
      "outputs": [
        {
          "output_type": "execute_result",
          "data": {
            "text/plain": [
              "array([[<matplotlib.axes._subplots.AxesSubplot object at 0x7f9fa54f3c50>]],\n",
              "      dtype=object)"
            ]
          },
          "metadata": {},
          "execution_count": 31
        },
        {
          "output_type": "display_data",
          "data": {
            "text/plain": [
              "<Figure size 432x288 with 1 Axes>"
            ],
            "image/png": "[encoded data removed]"
          },
          "metadata": {
            "needs_background": "light"
          }
        }
      ]
    },
    {
      "cell_type": "markdown",
      "source": [
        "#### spending on fruits is upto 25"
      ],
      "metadata": {
        "id": "GwYoz7KCtfwH"
      }
    },
    {
      "cell_type": "code",
      "source": [
        "##MntMeatProducts\n",
        "data.hist(column='MntMeatProducts')"
      ],
      "metadata": {
        "colab": {
          "base_uri": "https://localhost:8080/",
          "height": 316
        },
        "id": "oRRsnuHFtzgQ",
        "outputId": "0a992160-dd92-4e61-f646-2fac2af6c193"
      },
      "execution_count": null,
      "outputs": [
        {
          "output_type": "execute_result",
          "data": {
            "text/plain": [
              "array([[<matplotlib.axes._subplots.AxesSubplot object at 0x7f9fa548ff50>]],\n",
              "      dtype=object)"
            ]
          },
          "metadata": {},
          "execution_count": 32
        },
        {
          "output_type": "display_data",
          "data": {
            "text/plain": [
              "<Figure size 432x288 with 1 Axes>"
            ],
            "image/png": "[encoded data removed]"
          },
          "metadata": {
            "needs_background": "light"
          }
        }
      ]
    },
    {
      "cell_type": "markdown",
      "source": [
        "#### spending on meat upto 200 is more"
      ],
      "metadata": {
        "id": "pXHHAyZQuD6o"
      }
    },
    {
      "cell_type": "code",
      "source": [
        "##MntFishProducts\n",
        "data.hist(column='MntFishProducts')"
      ],
      "metadata": {
        "colab": {
          "base_uri": "https://localhost:8080/",
          "height": 316
        },
        "id": "fAu72orfuJdm",
        "outputId": "7664aefa-3fb0-4fc9-813f-c77187ec97fd"
      },
      "execution_count": null,
      "outputs": [
        {
          "output_type": "execute_result",
          "data": {
            "text/plain": [
              "array([[<matplotlib.axes._subplots.AxesSubplot object at 0x7f9fa53adbd0>]],\n",
              "      dtype=object)"
            ]
          },
          "metadata": {},
          "execution_count": 33
        },
        {
          "output_type": "display_data",
          "data": {
            "text/plain": [
              "<Figure size 432x288 with 1 Axes>"
            ],
            "image/png": "[encoded data removed]"
          },
          "metadata": {
            "needs_background": "light"
          }
        }
      ]
    },
    {
      "cell_type": "markdown",
      "source": [
        "##### spending on fish upto 25"
      ],
      "metadata": {
        "id": "J4msduJKuXuO"
      }
    },
    {
      "cell_type": "code",
      "source": [
        "##MntSweetProducts\n",
        "data.hist(column='MntSweetProducts')"
      ],
      "metadata": {
        "colab": {
          "base_uri": "https://localhost:8080/",
          "height": 316
        },
        "id": "10S_fxHoucf2",
        "outputId": "eec712b6-257b-4917-8d8b-d55f5e2c2709"
      },
      "execution_count": null,
      "outputs": [
        {
          "output_type": "execute_result",
          "data": {
            "text/plain": [
              "array([[<matplotlib.axes._subplots.AxesSubplot object at 0x7f9fa53d9110>]],\n",
              "      dtype=object)"
            ]
          },
          "metadata": {},
          "execution_count": 34
        },
        {
          "output_type": "display_data",
          "data": {
            "text/plain": [
              "<Figure size 432x288 with 1 Axes>"
            ],
            "image/png": "[encoded data removed]"
          },
          "metadata": {
            "needs_background": "light"
          }
        }
      ]
    },
    {
      "cell_type": "markdown",
      "source": [
        "#### spending on sweets upto 25"
      ],
      "metadata": {
        "id": "gu4I1bxOurt2"
      }
    },
    {
      "cell_type": "code",
      "source": [
        "##MntGoldProds\n",
        "data.hist(column='MntGoldProds')"
      ],
      "metadata": {
        "colab": {
          "base_uri": "https://localhost:8080/",
          "height": 316
        },
        "id": "oF6Pl01Euzq7",
        "outputId": "023a1c2c-30e9-4e23-8975-6a25591a9e33"
      },
      "execution_count": null,
      "outputs": [
        {
          "output_type": "execute_result",
          "data": {
            "text/plain": [
              "array([[<matplotlib.axes._subplots.AxesSubplot object at 0x7f9fa56ccbd0>]],\n",
              "      dtype=object)"
            ]
          },
          "metadata": {},
          "execution_count": 35
        },
        {
          "output_type": "display_data",
          "data": {
            "text/plain": [
              "<Figure size 432x288 with 1 Axes>"
            ],
            "image/png": "[encoded data removed]"
          },
          "metadata": {
            "needs_background": "light"
          }
        }
      ]
    },
    {
      "cell_type": "markdown",
      "source": [
        "#### amount spent on gold is about 25 by most customers"
      ],
      "metadata": {
        "id": "02hYQ-jCvBYc"
      }
    },
    {
      "cell_type": "code",
      "source": [
        "data.NumDealsPurchases.unique()"
      ],
      "metadata": {
        "colab": {
          "base_uri": "https://localhost:8080/"
        },
        "id": "6YNioRI-vMjo",
        "outputId": "c829076a-a580-49f2-afc0-77871304058c"
      },
      "execution_count": null,
      "outputs": [
        {
          "output_type": "execute_result",
          "data": {
            "text/plain": [
              "array([ 3,  2,  1,  5,  4, 15,  7,  6,  9,  0,  8, 10, 13, 11, 12])"
            ]
          },
          "metadata": {},
          "execution_count": 36
        }
      ]
    },
    {
      "cell_type": "code",
      "source": [
        "## NumDealsPurchases\n",
        "data.hist(column='NumDealsPurchases')"
      ],
      "metadata": {
        "colab": {
          "base_uri": "https://localhost:8080/",
          "height": 316
        },
        "id": "BBSRkoFkvslm",
        "outputId": "c5eb9e7d-0977-4d2d-b5ca-f82d0bae19eb"
      },
      "execution_count": null,
      "outputs": [
        {
          "output_type": "execute_result",
          "data": {
            "text/plain": [
              "array([[<matplotlib.axes._subplots.AxesSubplot object at 0x7f9fa5234c50>]],\n",
              "      dtype=object)"
            ]
          },
          "metadata": {},
          "execution_count": 37
        },
        {
          "output_type": "display_data",
          "data": {
            "text/plain": [
              "<Figure size 432x288 with 1 Axes>"
            ],
            "image/png": "[encoded data removed]"
          },
          "metadata": {
            "needs_background": "light"
          }
        }
      ]
    },
    {
      "cell_type": "markdown",
      "source": [
        "##### upto 4 products are bought through company's website"
      ],
      "metadata": {
        "id": "XLotBwDAD8yr"
      }
    },
    {
      "cell_type": "code",
      "source": [
        "## NumCatalogPurchases\n",
        "data.hist(column='NumCatalogPurchases')"
      ],
      "metadata": {
        "colab": {
          "base_uri": "https://localhost:8080/",
          "height": 316
        },
        "id": "Xh4jY_65ELx8",
        "outputId": "51c38173-e5a4-4da3-95db-c957128d4819"
      },
      "execution_count": null,
      "outputs": [
        {
          "output_type": "execute_result",
          "data": {
            "text/plain": [
              "array([[<matplotlib.axes._subplots.AxesSubplot object at 0x7f9fa51c35d0>]],\n",
              "      dtype=object)"
            ]
          },
          "metadata": {},
          "execution_count": 38
        },
        {
          "output_type": "display_data",
          "data": {
            "text/plain": [
              "<Figure size 432x288 with 1 Axes>"
            ],
            "image/png": "[encoded data removed]"
          },
          "metadata": {
            "needs_background": "light"
          }
        }
      ]
    },
    {
      "cell_type": "markdown",
      "source": [
        "##### upto 5 products bought through catalogue"
      ],
      "metadata": {
        "id": "1o3R6QDfEqtT"
      }
    },
    {
      "cell_type": "code",
      "source": [
        "## NumStorePurchases\n",
        "data.hist(column='NumStorePurchases')"
      ],
      "metadata": {
        "colab": {
          "base_uri": "https://localhost:8080/",
          "height": 316
        },
        "id": "JUwcU02fEduR",
        "outputId": "e36eb128-5f9e-4e09-a733-e3ed5db3dc38"
      },
      "execution_count": null,
      "outputs": [
        {
          "output_type": "execute_result",
          "data": {
            "text/plain": [
              "array([[<matplotlib.axes._subplots.AxesSubplot object at 0x7f9fa5154350>]],\n",
              "      dtype=object)"
            ]
          },
          "metadata": {},
          "execution_count": 39
        },
        {
          "output_type": "display_data",
          "data": {
            "text/plain": [
              "<Figure size 432x288 with 1 Axes>"
            ],
            "image/png": "[encoded data removed]"
          },
          "metadata": {
            "needs_background": "light"
          }
        }
      ]
    },
    {
      "cell_type": "markdown",
      "source": [
        "##### mostly bought through stores"
      ],
      "metadata": {
        "id": "68adQf5SFEGT"
      }
    },
    {
      "cell_type": "code",
      "source": [
        "## NumWebVisitsMonth\n",
        "data.hist(column='NumWebVisitsMonth')"
      ],
      "metadata": {
        "colab": {
          "base_uri": "https://localhost:8080/",
          "height": 316
        },
        "id": "O8Jmg3X7FJTp",
        "outputId": "7071d916-687b-4c2f-ad25-865ebc319c0e"
      },
      "execution_count": null,
      "outputs": [
        {
          "output_type": "execute_result",
          "data": {
            "text/plain": [
              "array([[<matplotlib.axes._subplots.AxesSubplot object at 0x7f9fa5067ad0>]],\n",
              "      dtype=object)"
            ]
          },
          "metadata": {},
          "execution_count": 40
        },
        {
          "output_type": "display_data",
          "data": {
            "text/plain": [
              "<Figure size 432x288 with 1 Axes>"
            ],
            "image/png": "[encoded data removed]"
          },
          "metadata": {
            "needs_background": "light"
          }
        }
      ]
    },
    {
      "cell_type": "code",
      "source": [
        "data.NumWebVisitsMonth.unique()"
      ],
      "metadata": {
        "colab": {
          "base_uri": "https://localhost:8080/"
        },
        "id": "mwQiydXhFhx2",
        "outputId": "e0b3550c-a084-4a8e-fb66-609637928311"
      },
      "execution_count": null,
      "outputs": [
        {
          "output_type": "execute_result",
          "data": {
            "text/plain": [
              "array([ 7,  5,  4,  6,  8,  9, 20,  2,  3,  1, 10,  0, 14, 19, 17, 13])"
            ]
          },
          "metadata": {},
          "execution_count": 41
        }
      ]
    },
    {
      "cell_type": "code",
      "source": [
        "fig, axes = plt.subplots(1,5, figsize=(25,4))\n",
        "fig.suptitle('Accepted offer')\n",
        "sns.countplot(ax=axes[0], x='AcceptedCmp1',data=data)\n",
        "sns.countplot(ax=axes[1], x='AcceptedCmp2',data=data)\n",
        "sns.countplot(ax=axes[2], x='AcceptedCmp3',data=data)\n",
        "sns.countplot(ax=axes[3], x='AcceptedCmp4' ,data=data)\n",
        "sns.countplot(ax=axes[4], x='AcceptedCmp5',data=data)"
      ],
      "metadata": {
        "colab": {
          "base_uri": "https://localhost:8080/",
          "height": 289
        },
        "id": "_G5nscNVIH0B",
        "outputId": "ac6526cf-cf99-4909-a601-77ece36d776b"
      },
      "execution_count": null,
      "outputs": [
        {
          "output_type": "execute_result",
          "data": {
            "text/plain": [
              "<matplotlib.axes._subplots.AxesSubplot at 0x7f9fa4eecc90>"
            ]
          },
          "metadata": {},
          "execution_count": 42
        },
        {
          "output_type": "display_data",
          "data": {
            "text/plain": [
              "<Figure size 1800x288 with 5 Axes>"
            ],
            "image/png": "[encoded data removed]"
          },
          "metadata": {
            "needs_background": "light"
          }
        }
      ]
    },
    {
      "cell_type": "markdown",
      "source": [
        "##### for AcceptedCmp2 accepted is slightly less when compared to other Acceptedcmps\n",
        "##### Remaining have same distribution"
      ],
      "metadata": {
        "id": "PKB-ADCWWnKL"
      }
    },
    {
      "cell_type": "code",
      "source": [
        "sns.countplot(x='Complain',data=data)"
      ],
      "metadata": {
        "colab": {
          "base_uri": "https://localhost:8080/",
          "height": 296
        },
        "id": "fwH0uJJvW68Y",
        "outputId": "c31a2ee9-e8a0-4ee4-f40d-b0bb749e12be"
      },
      "execution_count": null,
      "outputs": [
        {
          "output_type": "execute_result",
          "data": {
            "text/plain": [
              "<matplotlib.axes._subplots.AxesSubplot at 0x7f9fa500ba10>"
            ]
          },
          "metadata": {},
          "execution_count": 43
        },
        {
          "output_type": "display_data",
          "data": {
            "text/plain": [
              "<Figure size 432x288 with 1 Axes>"
            ],
            "image/png": "[encoded data removed]"
          },
          "metadata": {
            "needs_background": "light"
          }
        }
      ]
    },
    {
      "cell_type": "markdown",
      "source": [
        "##### less complains received"
      ],
      "metadata": {
        "id": "zlIXakS6Z0Wk"
      }
    },
    {
      "cell_type": "code",
      "source": [
        "## Response\n",
        "sns.countplot(x='Response',data=data)"
      ],
      "metadata": {
        "colab": {
          "base_uri": "https://localhost:8080/",
          "height": 296
        },
        "id": "DKvEgnD7Z6Yd",
        "outputId": "3cc2a32a-c692-41ae-b36e-7e9e5daf1e2f"
      },
      "execution_count": null,
      "outputs": [
        {
          "output_type": "execute_result",
          "data": {
            "text/plain": [
              "<matplotlib.axes._subplots.AxesSubplot at 0x7f9fa4db8210>"
            ]
          },
          "metadata": {},
          "execution_count": 44
        },
        {
          "output_type": "display_data",
          "data": {
            "text/plain": [
              "<Figure size 432x288 with 1 Axes>"
            ],
            "image/png": "[encoded data removed]"
          },
          "metadata": {
            "needs_background": "light"
          }
        }
      ]
    },
    {
      "cell_type": "markdown",
      "source": [
        "###### last campaign above 250 customers accepted the offer in last campaign"
      ],
      "metadata": {
        "id": "_vIOucepaeKp"
      }
    },
    {
      "cell_type": "code",
      "source": [
        "data = data.drop(['Year_Birth','Dt_Customer'],axis=1)"
      ],
      "metadata": {
        "id": "svA1Ooaa1kJM"
      },
      "execution_count": null,
      "outputs": []
    },
    {
      "cell_type": "code",
      "source": [
        "data.info()"
      ],
      "metadata": {
        "colab": {
          "base_uri": "https://localhost:8080/"
        },
        "id": "ggKPK20K1b6M",
        "outputId": "f459128b-8c11-48ba-f36d-651c43164bda"
      },
      "execution_count": null,
      "outputs": [
        {
          "output_type": "stream",
          "name": "stdout",
          "text": [
            "<class 'pandas.core.frame.DataFrame'>\n",
            "Int64Index: 2212 entries, 0 to 2239\n",
            "Data columns (total 25 columns):\n",
            " #   Column                    Non-Null Count  Dtype  \n",
            "---  ------                    --------------  -----  \n",
            " 0   Education                 2212 non-null   int64  \n",
            " 1   Marital_Status            2212 non-null   int64  \n",
            " 2   Income                    2212 non-null   float64\n",
            " 3   Kidhome                   2212 non-null   int64  \n",
            " 4   Teenhome                  2212 non-null   int64  \n",
            " 5   Recency                   2212 non-null   int64  \n",
            " 6   MntWines                  2212 non-null   int64  \n",
            " 7   MntFruits                 2212 non-null   int64  \n",
            " 8   MntMeatProducts           2212 non-null   int64  \n",
            " 9   MntFishProducts           2212 non-null   int64  \n",
            " 10  MntSweetProducts          2212 non-null   int64  \n",
            " 11  MntGoldProds              2212 non-null   int64  \n",
            " 12  NumDealsPurchases         2212 non-null   int64  \n",
            " 13  NumWebPurchases           2212 non-null   int64  \n",
            " 14  NumCatalogPurchases       2212 non-null   int64  \n",
            " 15  NumStorePurchases         2212 non-null   int64  \n",
            " 16  NumWebVisitsMonth         2212 non-null   int64  \n",
            " 17  AcceptedCmp3              2212 non-null   int64  \n",
            " 18  AcceptedCmp4              2212 non-null   int64  \n",
            " 19  AcceptedCmp5              2212 non-null   int64  \n",
            " 20  AcceptedCmp1              2212 non-null   int64  \n",
            " 21  AcceptedCmp2              2212 non-null   int64  \n",
            " 22  Complain                  2212 non-null   int64  \n",
            " 23  Response                  2212 non-null   int64  \n",
            " 24  Age_at_Customer_enrolled  2212 non-null   int64  \n",
            "dtypes: float64(1), int64(24)\n",
            "memory usage: 513.9 KB\n"
          ]
        }
      ]
    },
    {
      "cell_type": "code",
      "source": [
        "## X matrix\n",
        "X = data.iloc[:,:]"
      ],
      "metadata": {
        "id": "gGVnOQMK0l8f"
      },
      "execution_count": null,
      "outputs": []
    },
    {
      "cell_type": "code",
      "source": [
        "## Standardization\n",
        "from sklearn.preprocessing import StandardScaler\n",
        "sc = StandardScaler()\n",
        "X = sc.fit_transform(X)\n"
      ],
      "metadata": {
        "id": "yItbAM-Aaui5"
      },
      "execution_count": null,
      "outputs": []
    },
    {
      "cell_type": "markdown",
      "source": [
        "##### **Dimensionality Reduction using PCA**"
      ],
      "metadata": {
        "id": "JDKRktU2VDmX"
      }
    },
    {
      "cell_type": "code",
      "source": [
        "from sklearn.decomposition import PCA\n",
        "pca = PCA(n_components=2)\n",
        "X1 = pca.fit_transform(X)"
      ],
      "metadata": {
        "id": "Sp1dTyCtb9bn"
      },
      "execution_count": null,
      "outputs": []
    },
    {
      "cell_type": "markdown",
      "source": [
        "##### **Clustering of custmers using KMeans algorithm**"
      ],
      "metadata": {
        "id": "NicvNMkLVQXT"
      }
    },
    {
      "cell_type": "code",
      "source": [
        "## Importing Kmeans\n",
        "from sklearn.cluster import KMeans"
      ],
      "metadata": {
        "id": "LEkvyBp22Jnp"
      },
      "execution_count": null,
      "outputs": []
    },
    {
      "cell_type": "code",
      "source": [
        "# Quick examination of elbow method to find numbers of clusters to make.\n",
        "wcss = [] # with in cluster sum of squares(wcss)\n",
        "for i in range(1,11):\n",
        "  kmeans = KMeans(n_clusters = i, init = 'k-means++', random_state= 42)\n",
        "  kmeans.fit(X1)\n",
        "  wcss.append(kmeans.inertia_)\n",
        "plt.plot(range(1,11),wcss, marker = 'o')\n",
        "plt.xticks(range(1,11,1))\n",
        "plt.xlabel('number of clusters')\n",
        "plt.ylabel('wcss')\n",
        "plt.title('Elbow method')\n",
        "plt.grid(True, color = 'grey')\n",
        "plt.show()"
      ],
      "metadata": {
        "colab": {
          "base_uri": "https://localhost:8080/",
          "height": 295
        },
        "id": "Ds5GM_cJgPQm",
        "outputId": "064baef3-6f7d-45e7-a60b-829af6456f29"
      },
      "execution_count": null,
      "outputs": [
        {
          "output_type": "display_data",
          "data": {
            "text/plain": [
              "<Figure size 432x288 with 1 Axes>"
            ],
            "image/png": "[encoded data removed]"
          },
          "metadata": {
            "needs_background": "light"
          }
        }
      ]
    },
    {
      "cell_type": "markdown",
      "source": [
        "##### Number of clusters ==> 3"
      ],
      "metadata": {
        "id": "xCcL0QEsWRG3"
      }
    },
    {
      "cell_type": "code",
      "source": [
        "kmeans = KMeans(n_clusters = 3, init = 'k-means++', random_state= 42)\n",
        "y_kmeans = kmeans.fit_predict(X1)"
      ],
      "metadata": {
        "id": "NOIOvh9Z20zu"
      },
      "execution_count": null,
      "outputs": []
    },
    {
      "cell_type": "code",
      "source": [
        "print(y_kmeans)"
      ],
      "metadata": {
        "colab": {
          "base_uri": "https://localhost:8080/"
        },
        "id": "YaN8T5E3eeNx",
        "outputId": "87735cf6-5f6e-40ca-a31a-dc461a12c9f2"
      },
      "execution_count": null,
      "outputs": [
        {
          "output_type": "stream",
          "name": "stdout",
          "text": [
            "[0 1 2 ... 2 2 1]\n"
          ]
        }
      ]
    },
    {
      "cell_type": "code",
      "source": [
        "plt.figure(figsize=(15,5))\n",
        "plt.scatter(X1[y_kmeans == 0, 0],X1[y_kmeans == 0, 1], s = 100, color = 'lightpink', label = 'cluster 1' ) \n",
        "plt.scatter(X1[y_kmeans == 1, 0],X1[y_kmeans == 1, 1], s = 100, color = 'blue', label = 'cluster 2' ) \n",
        "plt.scatter(X1[y_kmeans == 2, 0],X1[y_kmeans == 2, 1], s = 100, color = 'green', label = 'cluster 3' ) \n",
        "plt.scatter(kmeans.cluster_centers_[:,0], kmeans.cluster_centers_[:,1], s = 300, c = 'grey', label = 'centroids', marker = '*')\n",
        "plt.title('clusters of customers')\n",
        "plt.legend()\n",
        "plt.show() "
      ],
      "metadata": {
        "colab": {
          "base_uri": "https://localhost:8080/",
          "height": 336
        },
        "id": "iJepiMcEenBg",
        "outputId": "49e403a4-2f34-4ae4-b04a-81bd6494d423"
      },
      "execution_count": null,
      "outputs": [
        {
          "output_type": "display_data",
          "data": {
            "text/plain": [
              "<Figure size 1080x360 with 1 Axes>"
            ],
            "image/png": "[encoded data removed]"
          },
          "metadata": {
            "needs_background": "light"
          }
        }
      ]
    },
    {
      "cell_type": "code",
      "source": [
        "data['clusters'] = y_kmeans"
      ],
      "metadata": {
        "id": "cV9uvAFke0aQ"
      },
      "execution_count": null,
      "outputs": []
    },
    {
      "cell_type": "code",
      "source": [
        "print(len(data[y_kmeans==0]))"
      ],
      "metadata": {
        "colab": {
          "base_uri": "https://localhost:8080/"
        },
        "id": "r7v0EFNmfAFg",
        "outputId": "621406db-4d20-4dd3-da75-3b1640257cad"
      },
      "execution_count": null,
      "outputs": [
        {
          "output_type": "stream",
          "name": "stdout",
          "text": [
            "530\n"
          ]
        }
      ]
    },
    {
      "cell_type": "code",
      "source": [
        "print(len(data[y_kmeans==1]))"
      ],
      "metadata": {
        "colab": {
          "base_uri": "https://localhost:8080/"
        },
        "id": "bHKtJktgfEtV",
        "outputId": "1646984f-354f-4950-d7d8-d07d346c7c1a"
      },
      "execution_count": null,
      "outputs": [
        {
          "output_type": "stream",
          "name": "stdout",
          "text": [
            "1014\n"
          ]
        }
      ]
    },
    {
      "cell_type": "code",
      "source": [
        "print(len(data[y_kmeans==2]))"
      ],
      "metadata": {
        "colab": {
          "base_uri": "https://localhost:8080/"
        },
        "id": "2bqdXEyFfNJn",
        "outputId": "ba2a2719-6267-4e47-87c7-9ae36c1c18c7"
      },
      "execution_count": null,
      "outputs": [
        {
          "output_type": "stream",
          "name": "stdout",
          "text": [
            "668\n"
          ]
        }
      ]
    },
    {
      "cell_type": "code",
      "source": [
        "## count of customers in each cluster\n",
        "ax=sns.countplot(x=data['clusters'], data=data);\n",
        "for p in ax.patches:\n",
        "    ax.annotate(f'\\n{p.get_height()}', (p.get_x()+0.2, p.get_height()), ha='left', va='center_baseline', color='white', size=16)"
      ],
      "metadata": {
        "colab": {
          "base_uri": "https://localhost:8080/",
          "height": 282
        },
        "id": "o63w1VlsfHU4",
        "outputId": "88076df9-2717-4a9f-d7c6-f418396c6e2b"
      },
      "execution_count": null,
      "outputs": [
        {
          "output_type": "display_data",
          "data": {
            "text/plain": [
              "<Figure size 432x288 with 1 Axes>"
            ],
            "image/png": "[encoded data removed]"
          },
          "metadata": {
            "needs_background": "light"
          }
        }
      ]
    },
    {
      "cell_type": "markdown",
      "source": [
        "##### cluster 0: contains 530 customers\n",
        "##### cluster 1: contains 1014 customers\n",
        "##### cluster 2: contains 668 customers"
      ],
      "metadata": {
        "id": "QCHUjYiIXDzP"
      }
    },
    {
      "cell_type": "code",
      "source": [
        "## income details of each cluster\n",
        "#plt.figure(figsize = (12,8))\n",
        "sns.boxenplot(x = data[\"clusters\"], y = data[\"Income\"])\n",
        "plt.title(\"Income vs Clusters\", size = 15)\n",
        "plt.grid(True)\n",
        "plt.show()"
      ],
      "metadata": {
        "colab": {
          "base_uri": "https://localhost:8080/",
          "height": 297
        },
        "id": "fUUo0H8ckAVx",
        "outputId": "16177f3d-dcf9-4140-8f74-19f3325d7a88"
      },
      "execution_count": null,
      "outputs": [
        {
          "output_type": "display_data",
          "data": {
            "text/plain": [
              "<Figure size 432x288 with 1 Axes>"
            ],
            "image/png": "[encoded data removed]"
          },
          "metadata": {
            "needs_background": "light"
          }
        }
      ]
    },
    {
      "cell_type": "markdown",
      "source": [
        "###### median salary of cluster 0 is 60,000\n",
        "###### median salary of cluster 1 is 40,000, some have income around 1,60,000\n",
        "###### median salary of cluster 2 is 80,000, some have income around 1,60,000"
      ],
      "metadata": {
        "id": "Wuf3DKFSkVOP"
      }
    },
    {
      "cell_type": "code",
      "source": [
        "## education details of customers in each cluster\n",
        "g = sns.countplot(x='clusters',data=data,hue='Education')\n",
        "plt.legend(labels=['Undergraduate','Master','Graduation'])\n",
        "plt.grid(True)"
      ],
      "metadata": {
        "colab": {
          "base_uri": "https://localhost:8080/",
          "height": 279
        },
        "id": "xqyML9Vzsgzi",
        "outputId": "53c2783b-07e4-402d-de96-ae2c88c76194"
      },
      "execution_count": null,
      "outputs": [
        {
          "output_type": "display_data",
          "data": {
            "text/plain": [
              "<Figure size 432x288 with 1 Axes>"
            ],
            "image/png": "[encoded data removed]"
          },
          "metadata": {
            "needs_background": "light"
          }
        }
      ]
    },
    {
      "cell_type": "markdown",
      "source": [
        "###### cluster 0 : undergraguates are very less while graduates and masters are almost same\n",
        "###### cluster 1 : undergraguates are around 180, masters are 350 and graduates are 490\n",
        "###### cluster 2 : undergraduates are less than 100, masters are 190 and graduates are nearer to 300\n",
        "\n",
        "###### in all clusters graduates are more"
      ],
      "metadata": {
        "id": "DF_RJa8ttSwA"
      }
    },
    {
      "cell_type": "code",
      "source": [
        "## Marital_status of customers in each cluster\n",
        "g = sns.countplot(x='clusters',data=data,hue='Marital_Status')\n",
        "plt.legend(labels=['Single','Partner'])\n",
        "plt.grid(True)"
      ],
      "metadata": {
        "colab": {
          "base_uri": "https://localhost:8080/",
          "height": 279
        },
        "id": "0LhzkpIjoSwt",
        "outputId": "2f387137-fcda-4599-f02f-00da7401f080"
      },
      "execution_count": null,
      "outputs": [
        {
          "output_type": "display_data",
          "data": {
            "text/plain": [
              "<Figure size 432x288 with 1 Axes>"
            ],
            "image/png": "[encoded data removed]"
          },
          "metadata": {
            "needs_background": "light"
          }
        }
      ]
    },
    {
      "cell_type": "markdown",
      "source": [
        "##### In all clusters customers staying with their partner are more\n",
        "##### **cluster 1** has more customers staying with their partner.\n"
      ],
      "metadata": {
        "id": "B9atyS5GYYDb"
      }
    },
    {
      "cell_type": "code",
      "source": [
        "## details of kids in each cluster\n",
        "g = sns.countplot(x='clusters',data=data,hue='Kidhome')\n",
        "plt.grid(True)"
      ],
      "metadata": {
        "colab": {
          "base_uri": "https://localhost:8080/",
          "height": 279
        },
        "id": "aLemql_g-lFC",
        "outputId": "ce5d25cc-5430-449d-f440-f49d051f6b6b"
      },
      "execution_count": null,
      "outputs": [
        {
          "output_type": "display_data",
          "data": {
            "text/plain": [
              "<Figure size 432x288 with 1 Axes>"
            ],
            "image/png": "[encoded data removed]"
          },
          "metadata": {
            "needs_background": "light"
          }
        }
      ]
    },
    {
      "cell_type": "markdown",
      "source": [
        "##### **cluster 0 :** about 510 customers are with no kids and very less customers with \n",
        "##### one kid at home\n",
        "##### **cluster 1**: above 700 customers are with one kid at home, 210 customers are with no kid at home,  around 20 customers are with 2 kids at home\n",
        "##### **cluster 2**: 110 customers are with one kids, 520 customers are with no kids at home, almost 10 customers are with 2 kids \n"
      ],
      "metadata": {
        "id": "3v6QWO75ZHWH"
      }
    },
    {
      "cell_type": "code",
      "source": [
        "## details of teens at home\n",
        "g = sns.countplot(x='clusters',data=data,hue='Teenhome')\n",
        "plt.grid(True)"
      ],
      "metadata": {
        "colab": {
          "base_uri": "https://localhost:8080/",
          "height": 279
        },
        "id": "oC8S0K1W-_I1",
        "outputId": "d145fa51-0978-4599-8b91-58ba335b19f2"
      },
      "execution_count": null,
      "outputs": [
        {
          "output_type": "display_data",
          "data": {
            "text/plain": [
              "<Figure size 432x288 with 1 Axes>"
            ],
            "image/png": "[encoded data removed]"
          },
          "metadata": {
            "needs_background": "light"
          }
        }
      ]
    },
    {
      "cell_type": "markdown",
      "source": [
        "##### **cluster 0**: around 570 customers are with no teens at home, less than 100 customers are with 1 teen at home, less than 10 customers are with 2 teens at home.\n",
        "##### **cluster 1**: around 590 customers are with no teens at home, around 410 customers are with 1 teen at home, around 10 customers have 2 teens at home\n",
        "##### **cluster 2** : around 520 customers are 1 teen at home, 100 customers are with no teen at home, around 30 customers are with 2 teens."
      ],
      "metadata": {
        "id": "EyrCoGyRcgKe"
      }
    },
    {
      "cell_type": "code",
      "source": [
        "## customers spending on products\n",
        "fig, axes = plt.subplots(2,3, figsize=(15,8))\n",
        "fig.suptitle('spent on products')\n",
        "sns.barplot(ax=axes[0,0],x='clusters', y='MntWines',data=data)\n",
        "sns.barplot(ax=axes[0,1],x='clusters', y='MntFruits',data=data)\n",
        "sns.barplot(ax=axes[0,2],x='clusters', y='MntMeatProducts',data=data)\n",
        "sns.barplot(ax=axes[1,0],x='clusters', y='MntFishProducts' ,data=data)\n",
        "sns.barplot(ax=axes[1,1],x='clusters', y='MntSweetProducts',data=data)\n",
        "sns.barplot(ax=axes[1,2],x='clusters' ,y='MntGoldProds',data=data)"
      ],
      "metadata": {
        "colab": {
          "base_uri": "https://localhost:8080/",
          "height": 571
        },
        "id": "GbvvNtzDAL0Q",
        "outputId": "e614a76a-a028-48c2-d178-70e0ee621390"
      },
      "execution_count": null,
      "outputs": [
        {
          "output_type": "execute_result",
          "data": {
            "text/plain": [
              "<matplotlib.axes._subplots.AxesSubplot at 0x7f9f9e6f7f50>"
            ]
          },
          "metadata": {},
          "execution_count": 66
        },
        {
          "output_type": "display_data",
          "data": {
            "text/plain": [
              "<Figure size 1080x576 with 6 Axes>"
            ],
            "image/png": "[encoded data removed]"
          },
          "metadata": {
            "needs_background": "light"
          }
        }
      ]
    },
    {
      "cell_type": "markdown",
      "source": [
        "#### **cluster 0:** spent more on wines, fruits, meat, fish, sweets, gold products\n",
        "#### **cluster 1**: spent very very less on products\n",
        "#### **cluster 2:** spent more on wines and gold while average spent on remaining products"
      ],
      "metadata": {
        "id": "Fb7w0vZEefqJ"
      }
    },
    {
      "cell_type": "code",
      "source": [
        "fig, axes = plt.subplots(5, figsize=(8,17))\n",
        "fig.suptitle('Means of purchasing')\n",
        "sns.barplot(ax=axes[0],x='clusters', y='NumDealsPurchases',data=data)\n",
        "sns.barplot(ax=axes[1],x='clusters', y='NumWebPurchases',data=data)\n",
        "sns.barplot(ax=axes[2],x='clusters', y='NumCatalogPurchases',data=data)\n",
        "sns.barplot(ax=axes[3],x='clusters', y='NumStorePurchases' ,data=data)\n",
        "sns.barplot(ax=axes[4],x='clusters', y='NumWebVisitsMonth',data=data)"
      ],
      "metadata": {
        "colab": {
          "base_uri": "https://localhost:8080/",
          "height": 1000
        },
        "id": "1jSV2UbUCB_q",
        "outputId": "3d917b23-ebbf-474c-b86f-6ae12610971c"
      },
      "execution_count": null,
      "outputs": [
        {
          "output_type": "execute_result",
          "data": {
            "text/plain": [
              "<matplotlib.axes._subplots.AxesSubplot at 0x7f9f9cd58090>"
            ]
          },
          "metadata": {},
          "execution_count": 117
        },
        {
          "output_type": "display_data",
          "data": {
            "text/plain": [
              "<Figure size 576x1224 with 5 Axes>"
            ],
            "image/png": "[encoded data removed]"
          },
          "metadata": {
            "needs_background": "light"
          }
        }
      ]
    },
    {
      "cell_type": "markdown",
      "source": [
        "##### **cluster 0**: through web catalogue, store\n",
        "##### **cluster 1**: visited company's website, averagely bought products with discount\n",
        "##### **cluster 2**: actively bought products with discount sale, through store, through website, visited company,s website actively, averagely bought through catalogue. "
      ],
      "metadata": {
        "id": "u0vkgoZzh24z"
      }
    },
    {
      "cell_type": "code",
      "source": [
        "fig, axes = plt.subplots(2,3, figsize=(15,8))\n",
        "fig.suptitle('customers accepted offers during campaign')\n",
        "sns.barplot(ax=axes[0,0],x='clusters', y='AcceptedCmp3',data=data)\n",
        "sns.barplot(ax=axes[0,1],x='clusters', y='AcceptedCmp4',data=data)\n",
        "sns.barplot(ax=axes[0,2],x='clusters', y='AcceptedCmp5',data=data)\n",
        "sns.barplot(ax=axes[1,0],x='clusters', y='AcceptedCmp1' ,data=data)\n",
        "sns.barplot(ax=axes[1,1],x='clusters', y='AcceptedCmp2',data=data)\n",
        "sns.barplot(ax=axes[1,2],x='clusters' ,y='Response',data=data)"
      ],
      "metadata": {
        "colab": {
          "base_uri": "https://localhost:8080/",
          "height": 571
        },
        "id": "1Tuh3oNdxc3G",
        "outputId": "65d7945e-1916-4f44-e83b-5aa1ef811604"
      },
      "execution_count": null,
      "outputs": [
        {
          "output_type": "execute_result",
          "data": {
            "text/plain": [
              "<matplotlib.axes._subplots.AxesSubplot at 0x7f9f9e2bfa50>"
            ]
          },
          "metadata": {},
          "execution_count": 68
        },
        {
          "output_type": "display_data",
          "data": {
            "text/plain": [
              "<Figure size 1080x576 with 6 Axes>"
            ],
            "image/png": "[encoded data removed]"
          },
          "metadata": {
            "needs_background": "light"
          }
        }
      ]
    },
    {
      "cell_type": "markdown",
      "source": [
        "##### **In First campaign** customers of **cluster 0** accepted the offer actively\n",
        "##### **In second campaign** customers of **cluster 0** accepted the offer actively\n",
        "##### **In third campaign** the order of clusters who accepted the offer : **cluster 0 > cluster 1 > cluster 2**\n",
        "##### **In fourth campaign** customers of **cluster 0 and cluster 2** accepted the offer\n",
        "##### **In fifth campaign** customers of **cluster 0** accepted the offer\n",
        "##### **In last campaign** customers of **cluster 0** accepted the offer"
      ],
      "metadata": {
        "id": "5_HzXgEhj8kA"
      }
    },
    {
      "cell_type": "code",
      "source": [
        "## complains by customers\n",
        "sns.barplot(x='clusters',y='Complain',data=data)"
      ],
      "metadata": {
        "colab": {
          "base_uri": "https://localhost:8080/",
          "height": 296
        },
        "id": "_0uFuHZMx9zX",
        "outputId": "3a3d7738-f740-4da6-94e7-8483abfae8a6"
      },
      "execution_count": null,
      "outputs": [
        {
          "output_type": "execute_result",
          "data": {
            "text/plain": [
              "<matplotlib.axes._subplots.AxesSubplot at 0x7f9f9e4668d0>"
            ]
          },
          "metadata": {},
          "execution_count": 69
        },
        {
          "output_type": "display_data",
          "data": {
            "text/plain": [
              "<Figure size 432x288 with 1 Axes>"
            ],
            "image/png": "[encoded data removed]"
          },
          "metadata": {
            "needs_background": "light"
          }
        }
      ]
    },
    {
      "cell_type": "markdown",
      "source": [
        "##### order of clusters of customers complain:\n",
        "##### **cluster 1 > cluster 2 > cluster 0**"
      ],
      "metadata": {
        "id": "OFwlA6w4mNtH"
      }
    },
    {
      "cell_type": "code",
      "source": [
        "sns.boxenplot(x = data[\"clusters\"], y = data[\"Age_at_Customer_enrolled\"])\n",
        "plt.title(\"Age of erolled customers in Clusters\", size = 15)\n",
        "plt.grid(True)\n",
        "plt.show()"
      ],
      "metadata": {
        "colab": {
          "base_uri": "https://localhost:8080/",
          "height": 297
        },
        "id": "0ODzigsyyGCB",
        "outputId": "e7aabdd2-4d77-4630-bd28-4f2a4d7ff8a0"
      },
      "execution_count": null,
      "outputs": [
        {
          "output_type": "display_data",
          "data": {
            "text/plain": [
              "<Figure size 432x288 with 1 Axes>"
            ],
            "image/png": "[encoded data removed]"
          },
          "metadata": {
            "needs_background": "light"
          }
        }
      ]
    },
    {
      "cell_type": "markdown",
      "source": [
        "#### cluster 0: median age ==> 42\n",
        "#### cluster 1: median age ==> 40\n",
        "#### cluster 2: median age ==> 50"
      ],
      "metadata": {
        "id": "d8cJ2GKKoV4v"
      }
    },
    {
      "cell_type": "code",
      "source": [
        "df1 = data[data['clusters']==0]"
      ],
      "metadata": {
        "id": "Tz8Qw5vW0QFY"
      },
      "execution_count": null,
      "outputs": []
    },
    {
      "cell_type": "code",
      "source": [
        "df1.hist(column='Age_at_Customer_enrolled')"
      ],
      "metadata": {
        "colab": {
          "base_uri": "https://localhost:8080/",
          "height": 316
        },
        "id": "-PM9ccmhzzD6",
        "outputId": "c04a78da-7012-45ac-c29d-ffb88ba7b169"
      },
      "execution_count": null,
      "outputs": [
        {
          "output_type": "execute_result",
          "data": {
            "text/plain": [
              "array([[<matplotlib.axes._subplots.AxesSubplot object at 0x7f9f9ecb35d0>]],\n",
              "      dtype=object)"
            ]
          },
          "metadata": {},
          "execution_count": 72
        },
        {
          "output_type": "display_data",
          "data": {
            "text/plain": [
              "<Figure size 432x288 with 1 Axes>"
            ],
            "image/png": "[encoded data removed]"
          },
          "metadata": {
            "needs_background": "light"
          }
        }
      ]
    },
    {
      "cell_type": "markdown",
      "source": [
        "##### cluster 0: all age catogories are present"
      ],
      "metadata": {
        "id": "A55TAKy_nxdS"
      }
    },
    {
      "cell_type": "code",
      "source": [
        "df2 = data[data['clusters']==1]"
      ],
      "metadata": {
        "id": "tnmHvtGI0l2z"
      },
      "execution_count": null,
      "outputs": []
    },
    {
      "cell_type": "code",
      "source": [
        "df2.hist(column='Age_at_Customer_enrolled')"
      ],
      "metadata": {
        "colab": {
          "base_uri": "https://localhost:8080/",
          "height": 316
        },
        "id": "2tj-viOM0nct",
        "outputId": "c98c1a85-1aa8-476d-a999-f9dc916e9ca9"
      },
      "execution_count": null,
      "outputs": [
        {
          "output_type": "execute_result",
          "data": {
            "text/plain": [
              "array([[<matplotlib.axes._subplots.AxesSubplot object at 0x7f9f9ec77e90>]],\n",
              "      dtype=object)"
            ]
          },
          "metadata": {},
          "execution_count": 74
        },
        {
          "output_type": "display_data",
          "data": {
            "text/plain": [
              "<Figure size 432x288 with 1 Axes>"
            ],
            "image/png": "[encoded data removed]"
          },
          "metadata": {
            "needs_background": "light"
          }
        }
      ]
    },
    {
      "cell_type": "markdown",
      "source": [
        "##### cluster 1: 35 - 45 customers are more in number"
      ],
      "metadata": {
        "id": "0diD-IAsnmb_"
      }
    },
    {
      "cell_type": "code",
      "source": [
        "df3 = data[data['clusters']==2]"
      ],
      "metadata": {
        "id": "Q-OJf9ar00TK"
      },
      "execution_count": null,
      "outputs": []
    },
    {
      "cell_type": "code",
      "source": [
        "df3.hist(column='Age_at_Customer_enrolled')"
      ],
      "metadata": {
        "colab": {
          "base_uri": "https://localhost:8080/",
          "height": 316
        },
        "id": "QZS7RE1j06eX",
        "outputId": "97cf0671-2887-4ebd-eb0f-8465cfaccc65"
      },
      "execution_count": null,
      "outputs": [
        {
          "output_type": "execute_result",
          "data": {
            "text/plain": [
              "array([[<matplotlib.axes._subplots.AxesSubplot object at 0x7f9f9e2753d0>]],\n",
              "      dtype=object)"
            ]
          },
          "metadata": {},
          "execution_count": 76
        },
        {
          "output_type": "display_data",
          "data": {
            "text/plain": [
              "<Figure size 432x288 with 1 Axes>"
            ],
            "image/png": "[encoded data removed]"
          },
          "metadata": {
            "needs_background": "light"
          }
        }
      ]
    },
    {
      "cell_type": "markdown",
      "source": [
        "#### cluster 2 : 35 - 65 age customers are more in number"
      ],
      "metadata": {
        "id": "moKByAb-nYCK"
      }
    },
    {
      "cell_type": "markdown",
      "source": [
        "#### **Profiling the customers**\n",
        "#### **Cluster 0:**\n",
        "\n",
        "* size : 530\n",
        "* median income : 60,000  \n",
        "* constitutes graduates, masters, undergraduates(less)  \n",
        "* contains both living withpartner and single\n",
        "* no kids, no teens\n",
        "* spent more on wines, fruits, meat, fish, sweets, gold products\n",
        "* buying medium : through web catalogue, store\n",
        "* actively accepted the offers in all campaigns\n",
        "* all age catogories are present\n",
        "\n",
        "#### **Cluster 1:**\n",
        "* size = 1014\n",
        "* median income : 40,000, some are with 1,60,000\n",
        "* constitutes more of masters and graduates \n",
        "* living with partner are more than single\n",
        "* more with one kid and some with two kids and with teens\n",
        "* spent very very less on products\n",
        "* visited company's website, averagely bought products with discount \n",
        "* not actively accepted the in the offer in campaigh\n",
        "* median age : 40\n",
        "\n",
        "\n",
        "#### **Cluster 2:**\n",
        "* size = 668\n",
        "* median income : 80,000 , some with 1,60,000\n",
        "* constitutes more of graduates and masters\n",
        "* more are living with partner than single\n",
        "* more are with one teens\n",
        "* spent more on wines and gold while average spent on remaining products\n",
        "*  actively bought products with discount sale, through store, through website, visited company,s website actively, averagely bought through catalogue.\n",
        "* less actively accepted the offers in campaigns\n",
        "* median age 50\n",
        "\n",
        "\n",
        "\n",
        "\n",
        "\n",
        "\n",
        "\n",
        "\n",
        "\n",
        "\n",
        "\n",
        "\n",
        "\n",
        "\n",
        "\n",
        "\n",
        "\n"
      ],
      "metadata": {
        "id": "fulNugpRpnHt"
      }
    }
  ]
}